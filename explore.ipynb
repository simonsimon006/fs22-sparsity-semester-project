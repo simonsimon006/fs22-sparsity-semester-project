{
 "cells": [
  {
   "cell_type": "code",
   "execution_count": 1,
   "metadata": {},
   "outputs": [],
   "source": [
    "from scipy.io import loadmat, savemat\n",
    "import numpy as np\n",
    "from scipy.optimize import fsolve\n",
    "from scipy.integrate import quad\n",
    "\n",
    "dp = \"/home/simon/Code/semester-project-fs22/denoised_0.mat\"\n",
    "#dp  =\"/home/simon/Code/quelltext/datasets/eps_yl_w3.mat\""
   ]
  },
  {
   "cell_type": "code",
   "execution_count": 2,
   "metadata": {},
   "outputs": [],
   "source": [
    "ds = loadmat(dp, variable_names=[\"E_filt\"])\n",
    "ten = ds[\"E_filt\"]"
   ]
  },
  {
   "cell_type": "code",
   "execution_count": 3,
   "metadata": {},
   "outputs": [],
   "source": [
    "def lambd(ß):\n",
    "\treturn np.sqrt(2*(ß+1) + 8*ß/((ß+1)+np.sqrt(ß**2 + 14*ß+1)))\n",
    "def intform(t, ß):\n",
    "\treturn np.sqrt( ((1+np.sqrt(ß))**2-t) * (t-(1-np.sqrt(ß)**2)) )/(2*np.pi * t)\n",
    "def intgl(u, ß):\n",
    "\treturn quad(intform, (1-ß)**2, u, args=(ß,))[0] - 0.5\n",
    "\n",
    "def thresh(n, m, sigmas):\n",
    "\tß = n/m\n",
    "\tu = fsolve(func=intgl, x0=(1,), args=(ß,))\n",
    "\tw = lambd(ß) / u\n",
    "\tsig = np.median(sigmas)\n",
    "\treturn w * sig"
   ]
  },
  {
   "cell_type": "code",
   "execution_count": 13,
   "metadata": {},
   "outputs": [],
   "source": [
    "prism = Scattering2D(J=3, shape=ten.shape)\n",
    "#prism = prism.to(\"cuda:0\")"
   ]
  },
  {
   "cell_type": "code",
   "execution_count": 4,
   "metadata": {},
   "outputs": [],
   "source": [
    "U, E, V = np.linalg.svd(ten)"
   ]
  },
  {
   "cell_type": "code",
   "execution_count": 5,
   "metadata": {},
   "outputs": [
    {
     "name": "stderr",
     "output_type": "stream",
     "text": [
      "/tmp/ipykernel_3469/3081367668.py:4: RuntimeWarning: invalid value encountered in sqrt\n",
      "  return np.sqrt( ((1+np.sqrt(ß))**2-t) * (t-(1-np.sqrt(ß)**2)) )/(2*np.pi * t)\n",
      "/tmp/ipykernel_3469/3081367668.py:6: IntegrationWarning: The occurrence of roundoff error is detected, which prevents \n",
      "  the requested tolerance from being achieved.  The error may be \n",
      "  underestimated.\n",
      "  return quad(intform, (1-ß)**2, u, args=(ß,))[0] - 0.5\n",
      "/tmp/ipykernel_3469/3081367668.py:6: IntegrationWarning: Extremely bad integrand behavior occurs at some points of the\n",
      "  integration interval.\n",
      "  return quad(intform, (1-ß)**2, u, args=(ß,))[0] - 0.5\n",
      "/home/simon/.local/share/virtualenvs/semester-project-fs22-Q1qTmveV/lib/python3.10/site-packages/scipy/optimize/_minpack_py.py:175: RuntimeWarning: The iteration is not making good progress, as measured by the \n",
      "  improvement from the last ten iterations.\n",
      "  warnings.warn(msg, RuntimeWarning)\n"
     ]
    }
   ],
   "source": [
    "t = thresh(ten.shape[0],ten.shape[1], E)"
   ]
  },
  {
   "cell_type": "code",
   "execution_count": null,
   "metadata": {},
   "outputs": [],
   "source": [
    "np.save(\"U\", U)\n",
    "np.save(\"V\", V)"
   ]
  },
  {
   "cell_type": "code",
   "execution_count": 6,
   "metadata": {},
   "outputs": [
    {
     "data": {
      "text/plain": [
       "array([2337.71208065])"
      ]
     },
     "execution_count": 6,
     "metadata": {},
     "output_type": "execute_result"
    }
   ],
   "source": [
    "t"
   ]
  },
  {
   "cell_type": "code",
   "execution_count": 45,
   "metadata": {},
   "outputs": [
    {
     "data": {
      "text/plain": [
       "(29400, 5561)"
      ]
     },
     "execution_count": 45,
     "metadata": {},
     "output_type": "execute_result"
    }
   ],
   "source": [
    "Ec = np.zeros_like(E)\n",
    "Ec[E>t] = E[E>t]\n",
    "Ecd = np.diag(Ec)\n",
    "Ecd = np.pad(Ecd, pad_width=((0, U.shape[0]-Ec.shape[0]), (0,0)))\n",
    "Ecd.shape"
   ]
  },
  {
   "cell_type": "code",
   "execution_count": 46,
   "metadata": {},
   "outputs": [],
   "source": [
    "EV = np.matmul(Ecd, V)"
   ]
  },
  {
   "cell_type": "code",
   "execution_count": 47,
   "metadata": {},
   "outputs": [],
   "source": [
    "X = np.matmul(U, EV)"
   ]
  },
  {
   "cell_type": "code",
   "execution_count": 50,
   "metadata": {},
   "outputs": [],
   "source": [
    "savemat(\"svd_denoised.mat\", {\"E_filt\": X, \"E_filled\": ten})"
   ]
  },
  {
   "cell_type": "code",
   "execution_count": 54,
   "metadata": {},
   "outputs": [
    {
     "data": {
      "text/plain": [
       "(29400, 5561, 29400, 5561)"
      ]
     },
     "execution_count": 54,
     "metadata": {},
     "output_type": "execute_result"
    }
   ],
   "source": [
    "ten.shape + X.shape"
   ]
  },
  {
   "cell_type": "code",
   "execution_count": 8,
   "metadata": {},
   "outputs": [],
   "source": [
    "from matplotlib import pyplot as plt"
   ]
  },
  {
   "cell_type": "code",
   "execution_count": 11,
   "metadata": {},
   "outputs": [
    {
     "name": "stderr",
     "output_type": "stream",
     "text": [
      "/tmp/ipykernel_3469/2360051471.py:7: UserWarning: Matplotlib is currently using module://matplotlib_inline.backend_inline, which is a non-GUI backend, so cannot show the figure.\n",
      "  fig.show()\n"
     ]
    },
    {
     "data": {
      "image/png": "[encoded data removed]",
      "text/plain": [
       "<Figure size 432x288 with 1 Axes>"
      ]
     },
     "metadata": {
      "needs_background": "light"
     },
     "output_type": "display_data"
    }
   ],
   "source": [
    "fig, ax = plt.subplots()\n",
    "ax.set_yscale(\"log\", base=10)\n",
    "ax.set_xlabel(\"Number of SVD values\")\n",
    "ax.set_ylabel(\"Magnitude of value\")\n",
    "ax.plot(E)\n",
    "ax.axvline(t, color=\"green\", ls=\"--\")\n",
    "fig.show()"
   ]
  },
  {
   "cell_type": "code",
   "execution_count": 1,
   "metadata": {},
   "outputs": [],
   "source": [
    "import numpy as np\n",
    "from scipy.io import loadmat\n",
    "ds = loadmat(\"/home/simon/Code/quelltext/datasets/eps_yl_w3.mat\")"
   ]
  },
  {
   "cell_type": "code",
   "execution_count": 2,
   "metadata": {},
   "outputs": [],
   "source": [
    "from src.denoiser import denoise"
   ]
  },
  {
   "cell_type": "code",
   "execution_count": 3,
   "metadata": {},
   "outputs": [
    {
     "name": "stderr",
     "output_type": "stream",
     "text": [
      "/home/simon/Code/semester-project-fs22/src/denoiser.py:32: NumbaWarning: \n",
      "Compilation is falling back to object mode WITH looplifting enabled because Function \"denoise\" failed type inference due to: Invalid use of type(CPUDispatcher(<function thresh at 0x7f59fe85dbd0>)) with parameters (int64, int64, array(float64, 1d, C))\n",
      "\n",
      "During: resolving callee type: type(CPUDispatcher(<function thresh at 0x7f59fe85dbd0>))\n",
      "During: typing of call at /home/simon/Code/semester-project-fs22/src/denoiser.py (37)\n",
      "\n",
      "\n",
      "File \"src/denoiser.py\", line 37:\n",
      "def denoise(ten):\n",
      "    <source elided>\n",
      "\n",
      "\tt = thresh(ten.shape[0], ten.shape[1], E)\n",
      " ^\n",
      "\n",
      "  @jit(nogil=True, parallel=True)\n",
      "/home/simon/.local/share/virtualenvs/semester-project-fs22-Q1qTmveV/lib/python3.10/site-packages/numba/core/object_mode_passes.py:151: NumbaWarning: Function \"denoise\" was compiled in object mode without forceobj=True.\n",
      "\n",
      "File \"src/denoiser.py\", line 33:\n",
      "@jit(nogil=True, parallel=True)\n",
      "def denoise(ten):\n",
      "^\n",
      "\n",
      "  warnings.warn(errors.NumbaWarning(warn_msg,\n",
      "/home/simon/.local/share/virtualenvs/semester-project-fs22-Q1qTmveV/lib/python3.10/site-packages/numba/core/object_mode_passes.py:161: NumbaDeprecationWarning: \n",
      "Fall-back from the nopython compilation path to the object mode compilation path has been detected, this is deprecated behaviour.\n",
      "\n",
      "For more information visit https://numba.readthedocs.io/en/stable/reference/deprecation.html#deprecation-of-object-mode-fall-back-behaviour-when-using-jit\n",
      "\n",
      "File \"src/denoiser.py\", line 33:\n",
      "@jit(nogil=True, parallel=True)\n",
      "def denoise(ten):\n",
      "^\n",
      "\n",
      "  warnings.warn(errors.NumbaDeprecationWarning(msg,\n",
      "/home/simon/Code/semester-project-fs22/src/denoiser.py:32: NumbaWarning: Code running in object mode won't allow parallel execution despite nogil=True.\n",
      "  @jit(nogil=True, parallel=True)\n"
     ]
    },
    {
     "name": "stdout",
     "output_type": "stream",
     "text": [
      "(1100,)\n"
     ]
    },
    {
     "name": "stderr",
     "output_type": "stream",
     "text": [
      "/home/simon/Code/semester-project-fs22/src/denoiser.py:18: NumbaWarning: \n",
      "Compilation is falling back to object mode WITH looplifting enabled because Function \"intgl\" failed type inference due to: Untyped global name 'quad': Cannot determine Numba type of <class 'function'>\n",
      "\n",
      "File \"src/denoiser.py\", line 20:\n",
      "def intgl(u, ß):\n",
      "\treturn quad(intform, (1 - ß)**2, u, args=(ß, ))[0] - 0.5\n",
      " ^\n",
      "\n",
      "  @jit(nogil=True, parallel=True)\n",
      "/home/simon/.local/share/virtualenvs/semester-project-fs22-Q1qTmveV/lib/python3.10/site-packages/numba/core/object_mode_passes.py:151: NumbaWarning: Function \"intgl\" was compiled in object mode without forceobj=True.\n",
      "\n",
      "File \"src/denoiser.py\", line 19:\n",
      "@jit(nogil=True, parallel=True)\n",
      "def intgl(u, ß):\n",
      "^\n",
      "\n",
      "  warnings.warn(errors.NumbaWarning(warn_msg,\n",
      "/home/simon/.local/share/virtualenvs/semester-project-fs22-Q1qTmveV/lib/python3.10/site-packages/numba/core/object_mode_passes.py:161: NumbaDeprecationWarning: \n",
      "Fall-back from the nopython compilation path to the object mode compilation path has been detected, this is deprecated behaviour.\n",
      "\n",
      "For more information visit https://numba.readthedocs.io/en/stable/reference/deprecation.html#deprecation-of-object-mode-fall-back-behaviour-when-using-jit\n",
      "\n",
      "File \"src/denoiser.py\", line 19:\n",
      "@jit(nogil=True, parallel=True)\n",
      "def intgl(u, ß):\n",
      "^\n",
      "\n",
      "  warnings.warn(errors.NumbaDeprecationWarning(msg,\n",
      "/home/simon/Code/semester-project-fs22/src/denoiser.py:18: NumbaWarning: Code running in object mode won't allow parallel execution despite nogil=True.\n",
      "  @jit(nogil=True, parallel=True)\n",
      "/home/simon/.local/share/virtualenvs/semester-project-fs22-Q1qTmveV/lib/python3.10/site-packages/numba/core/typed_passes.py:329: NumbaPerformanceWarning: \n",
      "The keyword argument 'parallel=True' was specified but no transformation for parallel execution was possible.\n",
      "\n",
      "To find out why, try turning on parallel diagnostics, see https://numba.readthedocs.io/en/stable/user/parallel.html#diagnostics for help.\n",
      "\n",
      "File \"src/denoiser.py\", line 13:\n",
      "@jit(nogil=True, parallel=True)\n",
      "def intform(t, ß):\n",
      "^\n",
      "\n",
      "  warnings.warn(errors.NumbaPerformanceWarning(msg,\n",
      "/home/simon/.local/share/virtualenvs/semester-project-fs22-Q1qTmveV/lib/python3.10/site-packages/scipy/optimize/_minpack_py.py:24: IntegrationWarning: The occurrence of roundoff error is detected, which prevents \n",
      "  the requested tolerance from being achieved.  The error may be \n",
      "  underestimated.\n",
      "  res = atleast_1d(thefunc(*((x0[:numinputs],) + args)))\n",
      "/home/simon/Code/semester-project-fs22/src/denoiser.py:18: NumbaWarning: \n",
      "Compilation is falling back to object mode WITH looplifting enabled because Function \"intgl\" failed type inference due to: Untyped global name 'quad': Cannot determine Numba type of <class 'function'>\n",
      "\n",
      "File \"src/denoiser.py\", line 20:\n",
      "def intgl(u, ß):\n",
      "\treturn quad(intform, (1 - ß)**2, u, args=(ß, ))[0] - 0.5\n",
      " ^\n",
      "\n",
      "  @jit(nogil=True, parallel=True)\n",
      "/home/simon/.local/share/virtualenvs/semester-project-fs22-Q1qTmveV/lib/python3.10/site-packages/numba/core/object_mode_passes.py:151: NumbaWarning: Function \"intgl\" was compiled in object mode without forceobj=True.\n",
      "\n",
      "File \"src/denoiser.py\", line 19:\n",
      "@jit(nogil=True, parallel=True)\n",
      "def intgl(u, ß):\n",
      "^\n",
      "\n",
      "  warnings.warn(errors.NumbaWarning(warn_msg,\n",
      "/home/simon/.local/share/virtualenvs/semester-project-fs22-Q1qTmveV/lib/python3.10/site-packages/numba/core/object_mode_passes.py:161: NumbaDeprecationWarning: \n",
      "Fall-back from the nopython compilation path to the object mode compilation path has been detected, this is deprecated behaviour.\n",
      "\n",
      "For more information visit https://numba.readthedocs.io/en/stable/reference/deprecation.html#deprecation-of-object-mode-fall-back-behaviour-when-using-jit\n",
      "\n",
      "File \"src/denoiser.py\", line 19:\n",
      "@jit(nogil=True, parallel=True)\n",
      "def intgl(u, ß):\n",
      "^\n",
      "\n",
      "  warnings.warn(errors.NumbaDeprecationWarning(msg,\n",
      "/home/simon/Code/semester-project-fs22/src/denoiser.py:18: NumbaWarning: Code running in object mode won't allow parallel execution despite nogil=True.\n",
      "  @jit(nogil=True, parallel=True)\n",
      "/home/simon/.local/share/virtualenvs/semester-project-fs22-Q1qTmveV/lib/python3.10/site-packages/scipy/optimize/_minpack_py.py:237: IntegrationWarning: The occurrence of roundoff error is detected, which prevents \n",
      "  the requested tolerance from being achieved.  The error may be \n",
      "  underestimated.\n",
      "  retval = _minpack._hybrd(func, x0, args, 1, xtol, maxfev,\n",
      "/home/simon/.local/share/virtualenvs/semester-project-fs22-Q1qTmveV/lib/python3.10/site-packages/scipy/optimize/_minpack_py.py:237: IntegrationWarning: Extremely bad integrand behavior occurs at some points of the\n",
      "  integration interval.\n",
      "  retval = _minpack._hybrd(func, x0, args, 1, xtol, maxfev,\n",
      "/home/simon/.local/share/virtualenvs/semester-project-fs22-Q1qTmveV/lib/python3.10/site-packages/scipy/optimize/_minpack_py.py:175: RuntimeWarning: The iteration is not making good progress, as measured by the \n",
      "  improvement from the last ten iterations.\n",
      "  warnings.warn(msg, RuntimeWarning)\n",
      "/home/simon/.local/share/virtualenvs/semester-project-fs22-Q1qTmveV/lib/python3.10/site-packages/numba/core/typed_passes.py:329: NumbaPerformanceWarning: \n",
      "The keyword argument 'parallel=True' was specified but no transformation for parallel execution was possible.\n",
      "\n",
      "To find out why, try turning on parallel diagnostics, see https://numba.readthedocs.io/en/stable/user/parallel.html#diagnostics for help.\n",
      "\n",
      "File \"src/denoiser.py\", line 8:\n",
      "@jit(nogil=True, parallel=True)\n",
      "def lambd(ß):\n",
      "^\n",
      "\n",
      "  warnings.warn(errors.NumbaPerformanceWarning(msg,\n"
     ]
    },
    {
     "ename": "ValueError",
     "evalue": "matmul: Input operand 1 has a mismatch in its core dimension 0, with gufunc signature (n?,k),(k,m?)->(n?,m?) (size 6388 is different from 1100)",
     "output_type": "error",
     "traceback": [
      "\u001b[0;31m---------------------------------------------------------------------------\u001b[0m",
      "\u001b[0;31mValueError\u001b[0m                                Traceback (most recent call last)",
      "\u001b[1;32m/home/simon/Code/semester-project-fs22/explore.ipynb Cell 18'\u001b[0m in \u001b[0;36m<cell line: 1>\u001b[0;34m()\u001b[0m\n\u001b[0;32m----> <a href='vscode-notebook-cell:/home/simon/Code/semester-project-fs22/explore.ipynb#ch0000019?line=0'>1</a>\u001b[0m X, E, t \u001b[39m=\u001b[39m denoise(ds[\u001b[39m\"\u001b[39;49m\u001b[39mE_filled\u001b[39;49m\u001b[39m\"\u001b[39;49m])\n",
      "\u001b[0;31mValueError\u001b[0m: matmul: Input operand 1 has a mismatch in its core dimension 0, with gufunc signature (n?,k),(k,m?)->(n?,m?) (size 6388 is different from 1100)"
     ]
    }
   ],
   "source": [
    "X, E, t = denoise(ds[\"E_filled\"])"
   ]
  },
  {
   "cell_type": "code",
   "execution_count": 3,
   "metadata": {},
   "outputs": [
    {
     "name": "stdout",
     "output_type": "stream",
     "text": [
      "TS done\n",
      "cf done\n",
      "diag done\n"
     ]
    },
    {
     "ename": "AttributeError",
     "evalue": "'AxesSubplot' object has no attribute 'set_zlabel'",
     "output_type": "error",
     "traceback": [
      "\u001b[0;31m---------------------------------------------------------------------------\u001b[0m",
      "\u001b[0;31mAttributeError\u001b[0m                            Traceback (most recent call last)",
      "\u001b[1;32m/home/simon/Code/semester-project-fs22/explore.ipynb Cell 18'\u001b[0m in \u001b[0;36m<cell line: 2>\u001b[0;34m()\u001b[0m\n\u001b[1;32m      <a href='vscode-notebook-cell:/home/simon/Code/semester-project-fs22/explore.ipynb#ch0000017?line=0'>1</a>\u001b[0m \u001b[39mfrom\u001b[39;00m \u001b[39msrc\u001b[39;00m\u001b[39m.\u001b[39;00m\u001b[39mplotter\u001b[39;00m \u001b[39mimport\u001b[39;00m plot\n\u001b[0;32m----> <a href='vscode-notebook-cell:/home/simon/Code/semester-project-fs22/explore.ipynb#ch0000017?line=1'>2</a>\u001b[0m plot(ds[\u001b[39m\"\u001b[39;49m\u001b[39mE_filled\u001b[39;49m\u001b[39m\"\u001b[39;49m], ds[\u001b[39m\"\u001b[39;49m\u001b[39mE_filt\u001b[39;49m\u001b[39m\"\u001b[39;49m], [\u001b[39m1\u001b[39;49m], \u001b[39m\"\u001b[39;49m\u001b[39mtest.png\u001b[39;49m\u001b[39m\"\u001b[39;49m)\n",
      "File \u001b[0;32m~/Code/semester-project-fs22/src/plotter.py:215\u001b[0m, in \u001b[0;36mplot\u001b[0;34m(original, denoised, result, save)\u001b[0m\n\u001b[1;32m    <a href='file:///home/simon/Code/semester-project-fs22/src/plotter.py?line=211'>212</a>\u001b[0m __diag(axs[\u001b[39m3\u001b[39m], original, denoised)\n\u001b[1;32m    <a href='file:///home/simon/Code/semester-project-fs22/src/plotter.py?line=212'>213</a>\u001b[0m \u001b[39mprint\u001b[39m(\u001b[39m\"\u001b[39m\u001b[39mdiag done\u001b[39m\u001b[39m\"\u001b[39m)\n\u001b[0;32m--> <a href='file:///home/simon/Code/semester-project-fs22/src/plotter.py?line=214'>215</a>\u001b[0m __diff(axs[\u001b[39m4\u001b[39;49m], original, denoised)\n\u001b[1;32m    <a href='file:///home/simon/Code/semester-project-fs22/src/plotter.py?line=215'>216</a>\u001b[0m \u001b[39mprint\u001b[39m(\u001b[39m\"\u001b[39m\u001b[39mdiif done\u001b[39m\u001b[39m\"\u001b[39m)\n\u001b[1;32m    <a href='file:///home/simon/Code/semester-project-fs22/src/plotter.py?line=217'>218</a>\u001b[0m fig\u001b[39m.\u001b[39msavefig(save)\n",
      "File \u001b[0;32m~/Code/semester-project-fs22/src/plotter.py:64\u001b[0m, in \u001b[0;36m__diff\u001b[0;34m(axs, original, denoised)\u001b[0m\n\u001b[1;32m     <a href='file:///home/simon/Code/semester-project-fs22/src/plotter.py?line=61'>62</a>\u001b[0m axs\u001b[39m.\u001b[39mset_xlabel(\u001b[39m\"\u001b[39m\u001b[39mSpatial axis\u001b[39m\u001b[39m\"\u001b[39m)\n\u001b[1;32m     <a href='file:///home/simon/Code/semester-project-fs22/src/plotter.py?line=62'>63</a>\u001b[0m axs\u001b[39m.\u001b[39mset_ylabel(\u001b[39m\"\u001b[39m\u001b[39mTemporal axis\u001b[39m\u001b[39m\"\u001b[39m)\n\u001b[0;32m---> <a href='file:///home/simon/Code/semester-project-fs22/src/plotter.py?line=63'>64</a>\u001b[0m axs\u001b[39m.\u001b[39;49mset_zlabel(\u001b[39m\"\u001b[39m\u001b[39mStrain axis\u001b[39m\u001b[39m\"\u001b[39m)\n\u001b[1;32m     <a href='file:///home/simon/Code/semester-project-fs22/src/plotter.py?line=65'>66</a>\u001b[0m axs\u001b[39m.\u001b[39mplot_surface(\n\u001b[1;32m     <a href='file:///home/simon/Code/semester-project-fs22/src/plotter.py?line=66'>67</a>\u001b[0m     X,\n\u001b[1;32m     <a href='file:///home/simon/Code/semester-project-fs22/src/plotter.py?line=67'>68</a>\u001b[0m     T,\n\u001b[0;32m   (...)\u001b[0m\n\u001b[1;32m     <a href='file:///home/simon/Code/semester-project-fs22/src/plotter.py?line=71'>72</a>\u001b[0m     cstride\u001b[39m=\u001b[39mSTRIDE,\n\u001b[1;32m     <a href='file:///home/simon/Code/semester-project-fs22/src/plotter.py?line=72'>73</a>\u001b[0m )\n",
      "\u001b[0;31mAttributeError\u001b[0m: 'AxesSubplot' object has no attribute 'set_zlabel'"
     ]
    },
    {
     "ename": "Error",
     "evalue": "Canceled future for execute_request message before replies were done",
     "output_type": "error",
     "traceback": [
      "Error: Canceled future for execute_request message before replies were done",
      "at t.KernelShellFutureHandler.dispose (/home/simon/.vscode/extensions/ms-toolsai.jupyter-2022.3.1000901801/out/extension.js:2:1204175)",
      "at /home/simon/.vscode/extensions/ms-toolsai.jupyter-2022.3.1000901801/out/extension.js:2:1223227",
      "at Map.forEach (<anonymous>)",
      "at v._clearKernelState (/home/simon/.vscode/extensions/ms-toolsai.jupyter-2022.3.1000901801/out/extension.js:2:1223212)",
      "at v.dispose (/home/simon/.vscode/extensions/ms-toolsai.jupyter-2022.3.1000901801/out/extension.js:2:1216694)",
      "at /home/simon/.vscode/extensions/ms-toolsai.jupyter-2022.3.1000901801/out/extension.js:2:533674",
      "at t.swallowExceptions (/home/simon/.vscode/extensions/ms-toolsai.jupyter-2022.3.1000901801/out/extension.js:2:913059)",
      "at dispose (/home/simon/.vscode/extensions/ms-toolsai.jupyter-2022.3.1000901801/out/extension.js:2:533652)",
      "at t.RawSession.dispose (/home/simon/.vscode/extensions/ms-toolsai.jupyter-2022.3.1000901801/out/extension.js:2:537330)",
      "at runMicrotasks (<anonymous>)",
      "at processTicksAndRejections (node:internal/process/task_queues:96:5)"
     ]
    }
   ],
   "source": [
    "from src.plotter import plot\n",
    "plot(ds[\"E_filled\"], ds[\"E_filt\"], [1], \"test.png\")"
   ]
  },
  {
   "cell_type": "code",
   "execution_count": null,
   "metadata": {},
   "outputs": [],
   "source": [
    "from src.plotter import plot\n"
   ]
  }
 ],
 "metadata": {
  "interpreter": {
   "hash": "32b2cb487890b7a9cb98c7445e63442165abb1ef65533a2482dc5d16e7a9f5e5"
  },
  "kernelspec": {
   "display_name": "Python 3.10.4 ('semester-project-fs22-Q1qTmveV')",
   "language": "python",
   "name": "python3"
  },
  "language_info": {
   "codemirror_mode": {
    "name": "ipython",
    "version": 3
   },
   "file_extension": ".py",
   "mimetype": "text/x-python",
   "name": "python",
   "nbconvert_exporter": "python",
   "pygments_lexer": "ipython3",
   "version": "3.10.4"
  },
  "orig_nbformat": 4
 },
 "nbformat": 4,
 "nbformat_minor": 2
}
