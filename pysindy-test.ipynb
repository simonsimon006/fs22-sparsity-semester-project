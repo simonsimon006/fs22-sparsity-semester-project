{
 "cells": [
  {
   "cell_type": "code",
   "execution_count": 1,
   "metadata": {},
   "outputs": [],
   "source": [
    "import pysindy as ps\n",
    "import torch as t\n",
    "import numpy as np\n",
    "from src.plotter import plot_measurement\n",
    "from src.util import make_noisy_sine\n",
    "from matplotlib import pyplot as plt"
   ]
  },
  {
   "cell_type": "code",
   "execution_count": null,
   "metadata": {},
   "outputs": [],
   "source": []
  },
  {
   "cell_type": "code",
   "execution_count": 2,
   "metadata": {},
   "outputs": [
    {
     "name": "stdout",
     "output_type": "stream",
     "text": [
      "torch.Size([4096, 4096])\n",
      "torch.Size([16777216, 2])\n"
     ]
    }
   ],
   "source": [
    "# Make the data\n",
    "\n",
    "signal, noisy, time = make_noisy_sine()\n",
    "#plt.plot(signal)\n",
    "#plt.plot(signal[-1])\n",
    "#plt.show()\n",
    "print(signal.shape)\n",
    "print(time.shape)"
   ]
  },
  {
   "cell_type": "code",
   "execution_count": null,
   "metadata": {},
   "outputs": [],
   "source": [
    "model = ps.SINDy()\n",
    "model.fit(noisy.numpy())\n",
    "model.print()"
   ]
  },
  {
   "cell_type": "code",
   "execution_count": 6,
   "metadata": {},
   "outputs": [],
   "source": [
    "from pysr import PySRRegressor\n",
    "model = PySRRegressor(\n",
    "    model_selection=\"best\",  # Result is mix of simplicity+accuracy\n",
    "    niterations=5,\n",
    "    binary_operators=[\"+\", \"*\", \"^\"],\n",
    "    unary_operators=[\n",
    "        \"cos\",\n",
    "        \"exp\",\n",
    "        \"sin\",\n",
    "        \"inv(x) = 1/x\",\n",
    "\t\t\"sinh\",\n",
    "\t\t\"cosh\",\n",
    "\t# ^ Custom operator (julia syntax)\n",
    "    ],\n",
    "    extra_sympy_mappings={\"inv\": lambda x: 1 / x},\n",
    "    # ^ Define operator for SymPy as well\n",
    "    loss=\"loss(x, y) = abs((x - y))\",\n",
    "    # ^ Custom loss function (julia syntax),\n",
    "\tselect_k_features=2,\n",
    "\tpopulations=6,\n",
    ")"
   ]
  },
  {
   "cell_type": "code",
   "execution_count": 7,
   "metadata": {},
   "outputs": [
    {
     "name": "stderr",
     "output_type": "stream",
     "text": [
      "/home/simon/.local/share/virtualenvs/semester-project-fs22-Q1qTmveV/lib/python3.10/site-packages/pysr/sr.py:1068: UserWarning: Note: it looks like you are running in Jupyter. The progress bar will be turned off.\n",
      "  warnings.warn(\n"
     ]
    },
    {
     "name": "stdout",
     "output_type": "stream",
     "text": [
      "Using features ['x0' 'x1']\n"
     ]
    },
    {
     "name": "stderr",
     "output_type": "stream",
     "text": [
      "  Activating project at `~/.julia/environments/pysr-0.9.5`\n",
      "    Updating registry at `~/.julia/registries/General.toml`\n",
      "   Resolving package versions...\n",
      "  No Changes to `~/.julia/environments/pysr-0.9.5/Project.toml`\n",
      "  No Changes to `~/.julia/environments/pysr-0.9.5/Manifest.toml`\n",
      "   Resolving package versions...\n",
      "  No Changes to `~/.julia/environments/pysr-0.9.5/Project.toml`\n",
      "  No Changes to `~/.julia/environments/pysr-0.9.5/Manifest.toml`\n",
      "  No Changes to `~/.julia/environments/pysr-0.9.5/Project.toml`\n",
      "  No Changes to `~/.julia/environments/pysr-0.9.5/Manifest.toml`\n"
     ]
    }
   ],
   "source": [
    "Y = noisy.numpy()\n",
    "model.fit(time.numpy(), Y)\n",
    "model.equations"
   ]
  },
  {
   "cell_type": "code",
   "execution_count": null,
   "metadata": {},
   "outputs": [],
   "source": []
  }
 ],
 "metadata": {
  "kernelspec": {
   "display_name": "Python 3.10.5 ('semester-project-fs22-Q1qTmveV')",
   "language": "python",
   "name": "python3"
  },
  "language_info": {
   "codemirror_mode": {
    "name": "ipython",
    "version": 3
   },
   "file_extension": ".py",
   "mimetype": "text/x-python",
   "name": "python",
   "nbconvert_exporter": "python",
   "pygments_lexer": "ipython3",
   "version": "3.10.5"
  },
  "orig_nbformat": 4,
  "vscode": {
   "interpreter": {
    "hash": "32b2cb487890b7a9cb98c7445e63442165abb1ef65533a2482dc5d16e7a9f5e5"
   }
  }
 },
 "nbformat": 4,
 "nbformat_minor": 2
}
