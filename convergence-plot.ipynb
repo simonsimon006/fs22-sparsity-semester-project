{
 "cells": [
  {
   "cell_type": "code",
   "execution_count": 43,
   "metadata": {},
   "outputs": [],
   "source": [
    "import pandas as pd\n",
    "from matplotlib import pyplot as plt"
   ]
  },
  {
   "cell_type": "code",
   "execution_count": 72,
   "metadata": {},
   "outputs": [],
   "source": [
    "data_path = \"/home/simon/Code/semester-project-fs22/current-run/start_1658854615_466681-eps_S2-ZG_04-db4.pkl\""
   ]
  },
  {
   "cell_type": "code",
   "execution_count": 73,
   "metadata": {},
   "outputs": [],
   "source": [
    "df = pd.read_pickle(data_path)\n",
    "metadata = df.attrs\n",
    "\n",
    "adam_convergence = df.iloc[:-1]\n",
    "lbfgs_loss = df.iloc[-1]"
   ]
  },
  {
   "cell_type": "code",
   "execution_count": 74,
   "metadata": {},
   "outputs": [
    {
     "data": {
      "image/png": "[encoded data removed]",
      "text/plain": [
       "<Figure size 432x288 with 1 Axes>"
      ]
     },
     "metadata": {
      "needs_background": "light"
     },
     "output_type": "display_data"
    }
   ],
   "source": [
    "plt.yscale(\"log\")\n",
    "plt.plot(adam_convergence[\"regularization_penalty\"], label=\"regularization\", color=\"red\")\n",
    "plt.scatter(metadata[\"epochs\"], lbfgs_loss[\"regularization_penalty\"], marker=\"+\", color=\"red\")\n",
    "plt.plot(adam_convergence[\"reconstruction_mse\"],label=\"reconstruction_mse\", color=\"blue\")\n",
    "plt.scatter(metadata[\"epochs\"], lbfgs_loss[\"reconstruction_mse\"], marker=\"+\", color=\"blue\")\n",
    "plt.plot(adam_convergence[\"loss\"], label=\"loss\", color=\"green\")\n",
    "plt.scatter(metadata[\"epochs\"], lbfgs_loss[\"loss\"], marker=\"+\", color=\"green\")\n",
    "plt.legend()\n",
    "plt.title(f\"WAV: {metadata['wavelet']}; MEAS: {metadata['measurement']}; EPOCHS: {metadata['epochs']}\")\n",
    "plt.savefig(f\"WAV_{metadata['wavelet']}_MEAS_{metadata['measurement']}_EPOCHS: {metadata['epochs']}.png\", dpi=300)\n"
   ]
  },
  {
   "cell_type": "code",
   "execution_count": 75,
   "metadata": {},
   "outputs": [
    {
     "data": {
      "text/plain": [
       "loss                        0.000156\n",
       "reconstruction_mse       -117.175781\n",
       "regularization_penalty      0.286209\n",
       "reconstruction_factor       0.000000\n",
       "regularization_factor       0.000000\n",
       "dtype: float64"
      ]
     },
     "execution_count": 75,
     "metadata": {},
     "output_type": "execute_result"
    }
   ],
   "source": [
    "adam_convergence.iloc[-1] - lbfgs_loss\n"
   ]
  },
  {
   "cell_type": "code",
   "execution_count": null,
   "metadata": {},
   "outputs": [],
   "source": []
  }
 ],
 "metadata": {
  "kernelspec": {
   "display_name": "Python 3.10.5 ('semester-project-fs22-Q1qTmveV')",
   "language": "python",
   "name": "python3"
  },
  "language_info": {
   "codemirror_mode": {
    "name": "ipython",
    "version": 3
   },
   "file_extension": ".py",
   "mimetype": "text/x-python",
   "name": "python",
   "nbconvert_exporter": "python",
   "pygments_lexer": "ipython3",
   "version": "3.10.5"
  },
  "orig_nbformat": 4,
  "vscode": {
   "interpreter": {
    "hash": "32b2cb487890b7a9cb98c7445e63442165abb1ef65533a2482dc5d16e7a9f5e5"
   }
  }
 },
 "nbformat": 4,
 "nbformat_minor": 2
}
