{
 "cells": [
  {
   "cell_type": "code",
   "execution_count": 1,
   "metadata": {},
   "outputs": [],
   "source": [
    "import pandas as pd\n",
    "from matplotlib import pyplot as plt"
   ]
  },
  {
   "cell_type": "code",
   "execution_count": 2,
   "metadata": {},
   "outputs": [],
   "source": [
    "data_path = \"/home/simon/Code/semester-project-fs22/run_1662120834_017336.pkl\""
   ]
  },
  {
   "cell_type": "code",
   "execution_count": 3,
   "metadata": {},
   "outputs": [],
   "source": [
    "df = pd.read_pickle(data_path)\n",
    "metadata = df.attrs\n",
    "\n",
    "adam_convergence = df.iloc[:-1]\n",
    "lbfgs_loss = df.iloc[-1]"
   ]
  },
  {
   "cell_type": "code",
   "execution_count": 4,
   "metadata": {},
   "outputs": [
    {
     "ename": "KeyError",
     "evalue": "'measurement'",
     "output_type": "error",
     "traceback": [
      "\u001b[0;31m---------------------------------------------------------------------------\u001b[0m",
      "\u001b[0;31mKeyError\u001b[0m                                  Traceback (most recent call last)",
      "\u001b[1;32m/home/simon/Code/semester-project-fs22/convergence-plot.ipynb Cell 4\u001b[0m in \u001b[0;36m<cell line: 9>\u001b[0;34m()\u001b[0m\n\u001b[1;32m      <a href='vscode-notebook-cell:/home/simon/Code/semester-project-fs22/convergence-plot.ipynb#W3sZmlsZQ%3D%3D?line=6'>7</a>\u001b[0m plt\u001b[39m.\u001b[39mscatter(metadata[\u001b[39m\"\u001b[39m\u001b[39mepochs\u001b[39m\u001b[39m\"\u001b[39m], lbfgs_loss[\u001b[39m\"\u001b[39m\u001b[39mloss\u001b[39m\u001b[39m\"\u001b[39m], marker\u001b[39m=\u001b[39m\u001b[39m\"\u001b[39m\u001b[39m+\u001b[39m\u001b[39m\"\u001b[39m, color\u001b[39m=\u001b[39m\u001b[39m\"\u001b[39m\u001b[39mgreen\u001b[39m\u001b[39m\"\u001b[39m)\n\u001b[1;32m      <a href='vscode-notebook-cell:/home/simon/Code/semester-project-fs22/convergence-plot.ipynb#W3sZmlsZQ%3D%3D?line=7'>8</a>\u001b[0m plt\u001b[39m.\u001b[39mlegend()\n\u001b[0;32m----> <a href='vscode-notebook-cell:/home/simon/Code/semester-project-fs22/convergence-plot.ipynb#W3sZmlsZQ%3D%3D?line=8'>9</a>\u001b[0m plt\u001b[39m.\u001b[39mtitle(\u001b[39mf\u001b[39m\u001b[39m\"\u001b[39m\u001b[39mWAV: \u001b[39m\u001b[39m{\u001b[39;00mmetadata[\u001b[39m'\u001b[39m\u001b[39mwavelet\u001b[39m\u001b[39m'\u001b[39m]\u001b[39m}\u001b[39;00m\u001b[39m; MEAS: \u001b[39m\u001b[39m{\u001b[39;00mmetadata[\u001b[39m'\u001b[39m\u001b[39mmeasurement\u001b[39m\u001b[39m'\u001b[39m]\u001b[39m}\u001b[39;00m\u001b[39m; EPOCHS: \u001b[39m\u001b[39m{\u001b[39;00mmetadata[\u001b[39m'\u001b[39m\u001b[39mepochs\u001b[39m\u001b[39m'\u001b[39m]\u001b[39m}\u001b[39;00m\u001b[39m\"\u001b[39m)\n\u001b[1;32m     <a href='vscode-notebook-cell:/home/simon/Code/semester-project-fs22/convergence-plot.ipynb#W3sZmlsZQ%3D%3D?line=9'>10</a>\u001b[0m plt\u001b[39m.\u001b[39msavefig(\u001b[39mf\u001b[39m\u001b[39m\"\u001b[39m\u001b[39mWAV_\u001b[39m\u001b[39m{\u001b[39;00mmetadata[\u001b[39m'\u001b[39m\u001b[39mwavelet\u001b[39m\u001b[39m'\u001b[39m]\u001b[39m}\u001b[39;00m\u001b[39m_MEAS_\u001b[39m\u001b[39m{\u001b[39;00mmetadata[\u001b[39m'\u001b[39m\u001b[39mmeasurement\u001b[39m\u001b[39m'\u001b[39m]\u001b[39m}\u001b[39;00m\u001b[39m_EPOCHS: \u001b[39m\u001b[39m{\u001b[39;00mmetadata[\u001b[39m'\u001b[39m\u001b[39mepochs\u001b[39m\u001b[39m'\u001b[39m]\u001b[39m}\u001b[39;00m\u001b[39m.png\u001b[39m\u001b[39m\"\u001b[39m, dpi\u001b[39m=\u001b[39m\u001b[39m300\u001b[39m)\n",
      "\u001b[0;31mKeyError\u001b[0m: 'measurement'"
     ]
    },
    {
     "data": {
      "image/png": "[encoded data removed]",
      "text/plain": [
       "<Figure size 432x288 with 1 Axes>"
      ]
     },
     "metadata": {
      "needs_background": "light"
     },
     "output_type": "display_data"
    }
   ],
   "source": [
    "plt.yscale(\"log\")\n",
    "plt.plot(adam_convergence[\"regularization_penalty\"], label=\"regularization\", color=\"red\")\n",
    "plt.scatter(metadata[\"epochs\"], lbfgs_loss[\"regularization_penalty\"], marker=\"+\", color=\"red\")\n",
    "plt.plot(adam_convergence[\"reconstruction_mse\"],label=\"reconstruction_mse\", color=\"blue\")\n",
    "plt.scatter(metadata[\"epochs\"], lbfgs_loss[\"reconstruction_mse\"], marker=\"+\", color=\"blue\")\n",
    "plt.plot(adam_convergence[\"loss\"], label=\"loss\", color=\"green\")\n",
    "plt.scatter(metadata[\"epochs\"], lbfgs_loss[\"loss\"], marker=\"+\", color=\"green\")\n",
    "plt.legend()\n",
    "plt.title(f\"WAV: {metadata['wavelet']}; MEAS: {metadata['measurement']}; EPOCHS: {metadata['epochs']}\")\n",
    "plt.savefig(f\"WAV_{metadata['wavelet']}_MEAS_{metadata['measurement']}_EPOCHS: {metadata['epochs']}.png\", dpi=300)\n"
   ]
  },
  {
   "cell_type": "code",
   "execution_count": 5,
   "metadata": {},
   "outputs": [
    {
     "data": {
      "text/html": [
       "<div>\n",
       "<style scoped>\n",
       "    .dataframe tbody tr th:only-of-type {\n",
       "        vertical-align: middle;\n",
       "    }\n",
       "\n",
       "    .dataframe tbody tr th {\n",
       "        vertical-align: top;\n",
       "    }\n",
       "\n",
       "    .dataframe thead th {\n",
       "        text-align: right;\n",
       "    }\n",
       "</style>\n",
       "<table border=\"1\" class=\"dataframe\">\n",
       "  <thead>\n",
       "    <tr style=\"text-align: right;\">\n",
       "      <th></th>\n",
       "      <th>loss</th>\n",
       "      <th>reconstruction_mse</th>\n",
       "      <th>regularization_penalty</th>\n",
       "      <th>reconstruction_factor</th>\n",
       "      <th>regularization_factor</th>\n",
       "      <th>l0_norm</th>\n",
       "    </tr>\n",
       "  </thead>\n",
       "  <tbody>\n",
       "    <tr>\n",
       "      <th>0</th>\n",
       "      <td>0.545315</td>\n",
       "      <td>251440.843750</td>\n",
       "      <td>5.201710</td>\n",
       "      <td>1.000000e-07</td>\n",
       "      <td>0.1</td>\n",
       "      <td>0.997642</td>\n",
       "    </tr>\n",
       "    <tr>\n",
       "      <th>1</th>\n",
       "      <td>0.532361</td>\n",
       "      <td>251440.531250</td>\n",
       "      <td>5.072174</td>\n",
       "      <td>1.000000e-07</td>\n",
       "      <td>0.1</td>\n",
       "      <td>0.997808</td>\n",
       "    </tr>\n",
       "    <tr>\n",
       "      <th>2</th>\n",
       "      <td>0.518942</td>\n",
       "      <td>251440.125000</td>\n",
       "      <td>4.937984</td>\n",
       "      <td>1.000000e-07</td>\n",
       "      <td>0.1</td>\n",
       "      <td>1.095050</td>\n",
       "    </tr>\n",
       "    <tr>\n",
       "      <th>3</th>\n",
       "      <td>0.505449</td>\n",
       "      <td>251439.687500</td>\n",
       "      <td>4.803049</td>\n",
       "      <td>1.000000e-07</td>\n",
       "      <td>0.1</td>\n",
       "      <td>1.205130</td>\n",
       "    </tr>\n",
       "    <tr>\n",
       "      <th>4</th>\n",
       "      <td>0.492137</td>\n",
       "      <td>251439.125000</td>\n",
       "      <td>4.669932</td>\n",
       "      <td>1.000000e-07</td>\n",
       "      <td>0.1</td>\n",
       "      <td>1.267800</td>\n",
       "    </tr>\n",
       "    <tr>\n",
       "      <th>5</th>\n",
       "      <td>0.479222</td>\n",
       "      <td>251438.500000</td>\n",
       "      <td>4.540781</td>\n",
       "      <td>1.000000e-07</td>\n",
       "      <td>0.1</td>\n",
       "      <td>1.327394</td>\n",
       "    </tr>\n",
       "    <tr>\n",
       "      <th>6</th>\n",
       "      <td>0.466821</td>\n",
       "      <td>251437.828125</td>\n",
       "      <td>4.416775</td>\n",
       "      <td>1.000000e-07</td>\n",
       "      <td>0.1</td>\n",
       "      <td>1.382874</td>\n",
       "    </tr>\n",
       "    <tr>\n",
       "      <th>7</th>\n",
       "      <td>0.455068</td>\n",
       "      <td>251437.140625</td>\n",
       "      <td>4.299244</td>\n",
       "      <td>1.000000e-07</td>\n",
       "      <td>0.1</td>\n",
       "      <td>1.433555</td>\n",
       "    </tr>\n",
       "    <tr>\n",
       "      <th>8</th>\n",
       "      <td>0.444086</td>\n",
       "      <td>251436.390625</td>\n",
       "      <td>4.189427</td>\n",
       "      <td>1.000000e-07</td>\n",
       "      <td>0.1</td>\n",
       "      <td>1.479953</td>\n",
       "    </tr>\n",
       "    <tr>\n",
       "      <th>9</th>\n",
       "      <td>0.433888</td>\n",
       "      <td>251435.640625</td>\n",
       "      <td>4.087446</td>\n",
       "      <td>1.000000e-07</td>\n",
       "      <td>0.1</td>\n",
       "      <td>1.521419</td>\n",
       "    </tr>\n",
       "  </tbody>\n",
       "</table>\n",
       "</div>"
      ],
      "text/plain": [
       "       loss  reconstruction_mse  regularization_penalty  \\\n",
       "0  0.545315       251440.843750                5.201710   \n",
       "1  0.532361       251440.531250                5.072174   \n",
       "2  0.518942       251440.125000                4.937984   \n",
       "3  0.505449       251439.687500                4.803049   \n",
       "4  0.492137       251439.125000                4.669932   \n",
       "5  0.479222       251438.500000                4.540781   \n",
       "6  0.466821       251437.828125                4.416775   \n",
       "7  0.455068       251437.140625                4.299244   \n",
       "8  0.444086       251436.390625                4.189427   \n",
       "9  0.433888       251435.640625                4.087446   \n",
       "\n",
       "   reconstruction_factor  regularization_factor   l0_norm  \n",
       "0           1.000000e-07                    0.1  0.997642  \n",
       "1           1.000000e-07                    0.1  0.997808  \n",
       "2           1.000000e-07                    0.1  1.095050  \n",
       "3           1.000000e-07                    0.1  1.205130  \n",
       "4           1.000000e-07                    0.1  1.267800  \n",
       "5           1.000000e-07                    0.1  1.327394  \n",
       "6           1.000000e-07                    0.1  1.382874  \n",
       "7           1.000000e-07                    0.1  1.433555  \n",
       "8           1.000000e-07                    0.1  1.479953  \n",
       "9           1.000000e-07                    0.1  1.521419  "
      ]
     },
     "execution_count": 5,
     "metadata": {},
     "output_type": "execute_result"
    }
   ],
   "source": [
    "df"
   ]
  },
  {
   "cell_type": "code",
   "execution_count": null,
   "metadata": {},
   "outputs": [],
   "source": []
  }
 ],
 "metadata": {
  "kernelspec": {
   "display_name": "Python 3.10.5 ('semester-project-fs22-Q1qTmveV')",
   "language": "python",
   "name": "python3"
  },
  "language_info": {
   "codemirror_mode": {
    "name": "ipython",
    "version": 3
   },
   "file_extension": ".py",
   "mimetype": "text/x-python",
   "name": "python",
   "nbconvert_exporter": "python",
   "pygments_lexer": "ipython3",
   "version": "3.10.6"
  },
  "orig_nbformat": 4,
  "vscode": {
   "interpreter": {
    "hash": "32b2cb487890b7a9cb98c7445e63442165abb1ef65533a2482dc5d16e7a9f5e5"
   }
  }
 },
 "nbformat": 4,
 "nbformat_minor": 2
}
